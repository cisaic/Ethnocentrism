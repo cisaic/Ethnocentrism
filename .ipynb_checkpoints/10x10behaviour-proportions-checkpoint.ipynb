{
 "cells": [
  {
   "cell_type": "code",
   "execution_count": 1,
   "metadata": {},
   "outputs": [],
   "source": [
    "import pandas as pd\n",
    "import seaborn as sns\n",
    "import matplotlib.pyplot as plt"
   ]
  },
  {
   "cell_type": "markdown",
   "metadata": {},
   "source": [
    "# 10x10 1 tag"
   ]
  },
  {
   "cell_type": "code",
   "execution_count": 2,
   "metadata": {},
   "outputs": [],
   "source": [
    "path10_1_run = '10x10/1-tag/run-1000-100-10'\n",
    "file10_1_run = !ls $path10_1_run\n",
    "file10_1_run = [path10_1_run + '/' + file for file in file10_1_run]\n",
    "\n",
    "path10_1_runall = '10x10/1-tag/run-all-s-1000-10-11_35_6_64'\n",
    "file10_1_runall = !ls $path10_1_runall\n",
    "file10_1_runall = [path10_1_runall + '/' + file for file in file10_1_runall]\n",
    "\n",
    "path10_1_plots = '10x10/1-tag/run1plots-1000-100-10'\n",
    "file10_1_plots = !ls $path10_1_plots\n",
    "file10_1_plots = [path10_1_plots + '/' + file for file in file10_1_plots]"
   ]
  },
  {
   "cell_type": "markdown",
   "metadata": {},
   "source": [
    "# 10x10 2 tags"
   ]
  },
  {
   "cell_type": "code",
   "execution_count": 3,
   "metadata": {},
   "outputs": [],
   "source": [
    "path10_2_run = '10x10/2-tag/run-1000-100-10'\n",
    "file10_2_run = !ls $path10_2_run\n",
    "file10_2_run = [path10_2_run + '/' + file for file in file10_2_run]\n",
    "\n",
    "path10_2_runall = '10x10/2-tag/run-all-s-1000-10-11_35_6_64'\n",
    "file10_2_runall = !ls $path10_2_runall\n",
    "file10_2_runall = [path10_2_runall + '/' + file for file in file10_2_runall]\n",
    "\n",
    "path10_2_plots = '10x10/2-tag/run1plots-1000-100-10'\n",
    "file10_2_plots = !ls $path10_2_plots\n",
    "file10_2_plots = [path10_2_plots + '/' + file for file in file10_2_plots]"
   ]
  },
  {
   "cell_type": "code",
   "execution_count": 4,
   "metadata": {},
   "outputs": [
    {
     "data": {
      "text/plain": [
       "['10x10/2-tag/run-1000-100-10/behavior-proportions.txt',\n",
       " '10x10/2-tag/run-1000-100-10/behaviors.txt',\n",
       " '10x10/2-tag/run-1000-100-10/strategies.txt',\n",
       " '10x10/2-tag/run-1000-100-10/strategy-proportions.txt']"
      ]
     },
     "execution_count": 4,
     "metadata": {},
     "output_type": "execute_result"
    }
   ],
   "source": [
    "file10_2_run"
   ]
  },
  {
   "cell_type": "markdown",
   "metadata": {},
   "source": [
    "# 10x10 4 tags "
   ]
  },
  {
   "cell_type": "code",
   "execution_count": 5,
   "metadata": {},
   "outputs": [],
   "source": [
    "path10_4_run = '10x10/4-tag/run-1000-100-10'\n",
    "file10_4_run = !ls $path10_4_run\n",
    "file10_4_run = [path10_4_run + '/' + file for file in file10_4_run]\n",
    "\n",
    "path10_4_runall = '10x10/4-tag/run-all-s-1000-10-11_35_6_64'\n",
    "file10_4_runall = !ls $path10_4_runall\n",
    "file10_4_runall = [path10_4_runall + '/' + file for file in file10_4_runall]\n",
    "\n",
    "path10_4_plots = '10x10/4-tag/run1plots-1000-100-10'\n",
    "file10_4_plots = !ls $path10_4_plots\n",
    "file10_4_plots = [path10_4_plots + '/' + file for file in file10_4_plots]"
   ]
  },
  {
   "cell_type": "markdown",
   "metadata": {},
   "source": [
    "# 10x10 8 tags"
   ]
  },
  {
   "cell_type": "code",
   "execution_count": 6,
   "metadata": {},
   "outputs": [],
   "source": [
    "path10_8_run = '10x10/4-tag/run-1000-100-10'\n",
    "file10_8_run = !ls $path10_8_run\n",
    "file10_8_run = [path10_8_run + '/' + file for file in file10_8_run]\n",
    "\n",
    "path10_8_runall = '10x10/4-tag/run-all-s-1000-10-11_35_6_64'\n",
    "file10_8_runall = !ls $path10_8_runall\n",
    "file10_8_runall = [path10_8_runall + '/' + file for file in file10_8_runall]\n",
    "\n",
    "path10_8_plots = '10x10/4-tag/run1plots-1000-100-10'\n",
    "file10_8_plots = !ls $path10_8_plots\n",
    "file10_8_plots = [path10_8_plots + '/' + file for file in file10_8_plots]"
   ]
  },
  {
   "cell_type": "markdown",
   "metadata": {},
   "source": [
    "# 10x10 1000 tags"
   ]
  },
  {
   "cell_type": "code",
   "execution_count": 7,
   "metadata": {},
   "outputs": [],
   "source": [
    "path10_1k_run = '10x10/1000-tag/run-1000-100-10'\n",
    "file10_1k_run = !ls $path10_1k_run\n",
    "file10_1k_run = [path10_1k_run + '/' + file for file in file10_1k_run]\n",
    "\n",
    "path10_1k_runall = '10x10/1000-tag/run-all-s-1000-10-11_35_6_64'\n",
    "file10_1k_runall = !ls $path10_1k_runall\n",
    "file10_1k_runall = [path10_1k_runall + '/' + file for file in file10_1k_runall]\n",
    "\n",
    "path10_1k_plots = '10x10/1000-tag/run1plots-1000-100-10'\n",
    "file10_1k_plots = !ls $path10_1k_plots\n",
    "file10_1k_plots = [path10_1k_plots + '/' + file for file in file10_1k_plots]"
   ]
  },
  {
   "cell_type": "markdown",
   "metadata": {},
   "source": [
    "# 50x50 1 tag"
   ]
  },
  {
   "cell_type": "code",
   "execution_count": 8,
   "metadata": {},
   "outputs": [],
   "source": [
    "path50_1_run = '50x50/1-tag/run-1000-100-10'\n",
    "file50_1_run = !ls $path50_1_run\n",
    "file50_1_run = [path50_1_run + '/' + file for file in file50_1_run]\n",
    "\n",
    "path50_1_runall = '50x50/1-tag/run-all-s-1000-10-11_35_6_64'\n",
    "file50_1_runall = !ls $path50_1_runall\n",
    "file50_1_runall = [path50_1_runall + '/' + file for file in file50_1_runall]\n",
    "\n",
    "path50_1_plots = '50x50/1-tag/run1plots-1000-100-10'\n",
    "file50_1_plots = !ls $path50_1_plots\n",
    "file50_1_plots = [path50_1_plots + '/' + file for file in file50_1_plots]"
   ]
  },
  {
   "cell_type": "markdown",
   "metadata": {},
   "source": [
    "# 50x50 2 tags"
   ]
  },
  {
   "cell_type": "code",
   "execution_count": 9,
   "metadata": {},
   "outputs": [],
   "source": [
    "path50_2_run = '50x50/2-tag/run-1000-100-10'\n",
    "file50_2_run = !ls $path50_2_run\n",
    "file50_2_run = [path50_2_run + '/' + file for file in file50_2_run]\n",
    "\n",
    "path50_2_runall = '50x50/2-tag/run-all-s-1000-10-11_35_6_64'\n",
    "file50_2_runall = !ls $path50_2_runall\n",
    "file50_2_runall = [path50_2_runall + '/' + file for file in file50_2_runall]\n",
    "\n",
    "path50_2_plots = '50x50/2-tag/run1plots-1000-100-10'\n",
    "file50_2_plots = !ls $path50_2_plots\n",
    "file50_2_plots = [path50_2_plots + '/' + file for file in file50_2_plots]"
   ]
  },
  {
   "cell_type": "code",
   "execution_count": 10,
   "metadata": {},
   "outputs": [
    {
     "data": {
      "text/plain": [
       "['50x50/2-tag/run-1000-100-10/behavior-proportions.txt',\n",
       " '50x50/2-tag/run-1000-100-10/behaviors.txt',\n",
       " '50x50/2-tag/run-1000-100-10/strategies.txt',\n",
       " '50x50/2-tag/run-1000-100-10/strategy-proportions.txt']"
      ]
     },
     "execution_count": 10,
     "metadata": {},
     "output_type": "execute_result"
    }
   ],
   "source": [
    "file50_2_run"
   ]
  },
  {
   "cell_type": "markdown",
   "metadata": {},
   "source": [
    "# 50x50 4 tags "
   ]
  },
  {
   "cell_type": "code",
   "execution_count": 11,
   "metadata": {},
   "outputs": [],
   "source": [
    "path50_4_run = '50x50/4-tag/run-1000-100-10'\n",
    "file50_4_run = !ls $path50_4_run\n",
    "file50_4_run = [path50_4_run + '/' + file for file in file50_4_run]\n",
    "\n",
    "path50_4_runall = '50x50/4-tag/run-all-s-1000-10-11_35_6_64'\n",
    "file50_4_runall = !ls $path50_4_runall\n",
    "file50_4_runall = [path50_4_runall + '/' + file for file in file50_4_runall]\n",
    "\n",
    "path50_4_plots = '50x50/4-tag/run1plots-1000-100-10'\n",
    "file50_4_plots = !ls $path50_4_plots\n",
    "file50_4_plots = [path50_4_plots + '/' + file for file in file50_4_plots]"
   ]
  },
  {
   "cell_type": "markdown",
   "metadata": {},
   "source": [
    "# 50x50 8 tags "
   ]
  },
  {
   "cell_type": "code",
   "execution_count": 12,
   "metadata": {},
   "outputs": [],
   "source": [
    "path50_8_run = '50x50/8-tag/run-1000-100-10'\n",
    "file50_8_run = !ls $path50_8_run\n",
    "file50_8_run = [path50_8_run + '/' + file for file in file50_8_run]\n",
    "\n",
    "path50_8_runall = '50x50/8-tag/run-all-s-1000-10-11_35_6_64'\n",
    "file50_8_runall = !ls $path50_8_runall\n",
    "file50_8_runall = [path50_8_runall + '/' + file for file in file50_8_runall]\n",
    "\n",
    "path50_8_plots = '50x50/8-tag/run1plots-1000-100-10'\n",
    "file50_8_plots = !ls $path50_8_plots\n",
    "file50_8_plots = [path50_8_plots + '/' + file for file in file50_8_plots]"
   ]
  },
  {
   "cell_type": "markdown",
   "metadata": {},
   "source": [
    "# 50x50 10000 tags"
   ]
  },
  {
   "cell_type": "code",
   "execution_count": 13,
   "metadata": {},
   "outputs": [],
   "source": [
    "path50_10k_run = '50x50/1000-tag/run-1000-100-10'\n",
    "file50_10k_run = !ls $path50_10k_run\n",
    "file50_10k_run = [path50_10k_run + '/' + file for file in file50_10k_run]\n",
    "\n",
    "path50_10k_runall = '50x50/1000-tag/run-all-s-1000-10-11_35_6_64'\n",
    "file50_10k_runall = !ls $path50_10k_runall\n",
    "file50_10k_runall = [path50_10k_runall + '/' + file for file in file50_10k_runall]\n",
    "\n",
    "path50_10k_plots = '50x50/1000-tag/run1plots-1000-100-10'\n",
    "file50_10k_plots = !ls $path50_10k_plots\n",
    "file50_10k_plots = [path50_10k_plots + '/' + file for file in file50_10k_plots]"
   ]
  },
  {
   "cell_type": "markdown",
   "metadata": {},
   "source": [
    "# bp = BEHAVIOUR PROPORTIONS"
   ]
  },
  {
   "cell_type": "code",
   "execution_count": 14,
   "metadata": {},
   "outputs": [
    {
     "data": {
      "text/plain": [
       "['10x10/1-tag/run-1000-100-10/behavior-proportions.txt',\n",
       " '10x10/1-tag/run-1000-100-10/behaviors.txt',\n",
       " '10x10/1-tag/run-1000-100-10/strategies.txt',\n",
       " '10x10/1-tag/run-1000-100-10/strategy-proportions.txt']"
      ]
     },
     "execution_count": 14,
     "metadata": {},
     "output_type": "execute_result"
    }
   ],
   "source": [
    "file10_1_run"
   ]
  },
  {
   "cell_type": "code",
   "execution_count": 15,
   "metadata": {},
   "outputs": [],
   "source": [
    "# 10x10 1 tag\n",
    "n10_tags1_bp = pd.read_csv(file10_1_run[0], sep=\"\\t\", header=None)\n",
    "n10_tags1_bp = n10_tags1_bp.drop(2, axis=1)\n",
    "n10_tags1_bp.columns = [\"cooperate\", \"defect\"]\n",
    "n10_tags1_bp[\"size\"] = 10\n",
    "n10_tags1_bp[\"tag\"] = 1"
   ]
  },
  {
   "cell_type": "code",
   "execution_count": 16,
   "metadata": {},
   "outputs": [
    {
     "data": {
      "text/html": [
       "<div>\n",
       "<style scoped>\n",
       "    .dataframe tbody tr th:only-of-type {\n",
       "        vertical-align: middle;\n",
       "    }\n",
       "\n",
       "    .dataframe tbody tr th {\n",
       "        vertical-align: top;\n",
       "    }\n",
       "\n",
       "    .dataframe thead th {\n",
       "        text-align: right;\n",
       "    }\n",
       "</style>\n",
       "<table border=\"1\" class=\"dataframe\">\n",
       "  <thead>\n",
       "    <tr style=\"text-align: right;\">\n",
       "      <th></th>\n",
       "      <th>cooperate</th>\n",
       "      <th>defect</th>\n",
       "      <th>size</th>\n",
       "      <th>tag</th>\n",
       "    </tr>\n",
       "  </thead>\n",
       "  <tbody>\n",
       "    <tr>\n",
       "      <th>0</th>\n",
       "      <td>0.367390</td>\n",
       "      <td>0.632609</td>\n",
       "      <td>10</td>\n",
       "      <td>1</td>\n",
       "    </tr>\n",
       "    <tr>\n",
       "      <th>1</th>\n",
       "      <td>0.446131</td>\n",
       "      <td>0.553869</td>\n",
       "      <td>10</td>\n",
       "      <td>1</td>\n",
       "    </tr>\n",
       "    <tr>\n",
       "      <th>2</th>\n",
       "      <td>0.561917</td>\n",
       "      <td>0.438083</td>\n",
       "      <td>10</td>\n",
       "      <td>1</td>\n",
       "    </tr>\n",
       "    <tr>\n",
       "      <th>3</th>\n",
       "      <td>0.558238</td>\n",
       "      <td>0.441762</td>\n",
       "      <td>10</td>\n",
       "      <td>1</td>\n",
       "    </tr>\n",
       "    <tr>\n",
       "      <th>4</th>\n",
       "      <td>0.585209</td>\n",
       "      <td>0.414791</td>\n",
       "      <td>10</td>\n",
       "      <td>1</td>\n",
       "    </tr>\n",
       "    <tr>\n",
       "      <th>5</th>\n",
       "      <td>0.288984</td>\n",
       "      <td>0.711016</td>\n",
       "      <td>10</td>\n",
       "      <td>1</td>\n",
       "    </tr>\n",
       "    <tr>\n",
       "      <th>6</th>\n",
       "      <td>0.296326</td>\n",
       "      <td>0.703674</td>\n",
       "      <td>10</td>\n",
       "      <td>1</td>\n",
       "    </tr>\n",
       "    <tr>\n",
       "      <th>7</th>\n",
       "      <td>0.473733</td>\n",
       "      <td>0.526267</td>\n",
       "      <td>10</td>\n",
       "      <td>1</td>\n",
       "    </tr>\n",
       "    <tr>\n",
       "      <th>8</th>\n",
       "      <td>0.240202</td>\n",
       "      <td>0.759798</td>\n",
       "      <td>10</td>\n",
       "      <td>1</td>\n",
       "    </tr>\n",
       "    <tr>\n",
       "      <th>9</th>\n",
       "      <td>0.549284</td>\n",
       "      <td>0.450716</td>\n",
       "      <td>10</td>\n",
       "      <td>1</td>\n",
       "    </tr>\n",
       "  </tbody>\n",
       "</table>\n",
       "</div>"
      ],
      "text/plain": [
       "   cooperate    defect  size  tag\n",
       "0   0.367390  0.632609    10    1\n",
       "1   0.446131  0.553869    10    1\n",
       "2   0.561917  0.438083    10    1\n",
       "3   0.558238  0.441762    10    1\n",
       "4   0.585209  0.414791    10    1\n",
       "5   0.288984  0.711016    10    1\n",
       "6   0.296326  0.703674    10    1\n",
       "7   0.473733  0.526267    10    1\n",
       "8   0.240202  0.759798    10    1\n",
       "9   0.549284  0.450716    10    1"
      ]
     },
     "execution_count": 16,
     "metadata": {},
     "output_type": "execute_result"
    }
   ],
   "source": [
    "n10_tags1_bp"
   ]
  },
  {
   "cell_type": "code",
   "execution_count": 17,
   "metadata": {},
   "outputs": [
    {
     "data": {
      "text/html": [
       "<div>\n",
       "<style scoped>\n",
       "    .dataframe tbody tr th:only-of-type {\n",
       "        vertical-align: middle;\n",
       "    }\n",
       "\n",
       "    .dataframe tbody tr th {\n",
       "        vertical-align: top;\n",
       "    }\n",
       "\n",
       "    .dataframe thead th {\n",
       "        text-align: right;\n",
       "    }\n",
       "</style>\n",
       "<table border=\"1\" class=\"dataframe\">\n",
       "  <thead>\n",
       "    <tr style=\"text-align: right;\">\n",
       "      <th></th>\n",
       "      <th>cooperate</th>\n",
       "      <th>defect</th>\n",
       "      <th>size</th>\n",
       "      <th>tag</th>\n",
       "    </tr>\n",
       "  </thead>\n",
       "  <tbody>\n",
       "    <tr>\n",
       "      <th>0</th>\n",
       "      <td>0.420564</td>\n",
       "      <td>0.579436</td>\n",
       "      <td>10</td>\n",
       "      <td>2</td>\n",
       "    </tr>\n",
       "    <tr>\n",
       "      <th>1</th>\n",
       "      <td>0.550970</td>\n",
       "      <td>0.449030</td>\n",
       "      <td>10</td>\n",
       "      <td>2</td>\n",
       "    </tr>\n",
       "    <tr>\n",
       "      <th>2</th>\n",
       "      <td>0.580036</td>\n",
       "      <td>0.419964</td>\n",
       "      <td>10</td>\n",
       "      <td>2</td>\n",
       "    </tr>\n",
       "    <tr>\n",
       "      <th>3</th>\n",
       "      <td>0.618188</td>\n",
       "      <td>0.381812</td>\n",
       "      <td>10</td>\n",
       "      <td>2</td>\n",
       "    </tr>\n",
       "    <tr>\n",
       "      <th>4</th>\n",
       "      <td>0.485043</td>\n",
       "      <td>0.514957</td>\n",
       "      <td>10</td>\n",
       "      <td>2</td>\n",
       "    </tr>\n",
       "    <tr>\n",
       "      <th>5</th>\n",
       "      <td>0.546980</td>\n",
       "      <td>0.453020</td>\n",
       "      <td>10</td>\n",
       "      <td>2</td>\n",
       "    </tr>\n",
       "    <tr>\n",
       "      <th>6</th>\n",
       "      <td>0.599113</td>\n",
       "      <td>0.400887</td>\n",
       "      <td>10</td>\n",
       "      <td>2</td>\n",
       "    </tr>\n",
       "    <tr>\n",
       "      <th>7</th>\n",
       "      <td>0.411434</td>\n",
       "      <td>0.588566</td>\n",
       "      <td>10</td>\n",
       "      <td>2</td>\n",
       "    </tr>\n",
       "    <tr>\n",
       "      <th>8</th>\n",
       "      <td>0.478922</td>\n",
       "      <td>0.521078</td>\n",
       "      <td>10</td>\n",
       "      <td>2</td>\n",
       "    </tr>\n",
       "    <tr>\n",
       "      <th>9</th>\n",
       "      <td>0.478661</td>\n",
       "      <td>0.521339</td>\n",
       "      <td>10</td>\n",
       "      <td>2</td>\n",
       "    </tr>\n",
       "  </tbody>\n",
       "</table>\n",
       "</div>"
      ],
      "text/plain": [
       "   cooperate    defect  size  tag\n",
       "0   0.420564  0.579436    10    2\n",
       "1   0.550970  0.449030    10    2\n",
       "2   0.580036  0.419964    10    2\n",
       "3   0.618188  0.381812    10    2\n",
       "4   0.485043  0.514957    10    2\n",
       "5   0.546980  0.453020    10    2\n",
       "6   0.599113  0.400887    10    2\n",
       "7   0.411434  0.588566    10    2\n",
       "8   0.478922  0.521078    10    2\n",
       "9   0.478661  0.521339    10    2"
      ]
     },
     "execution_count": 17,
     "metadata": {},
     "output_type": "execute_result"
    }
   ],
   "source": [
    "# 10x10 2 tags\n",
    "\n",
    "n10_tags2_bp = pd.read_csv(file10_2_run[0], sep=\"\\t\", header=None)\n",
    "n10_tags2_bp = n10_tags2_bp.drop(2, axis=1)\n",
    "n10_tags2_bp.columns = [\"cooperate\", \"defect\"]\n",
    "\n",
    "#worlds = []\n",
    "#i = 1\n",
    "#for row in n10_tags2_bp['cooperate']:\n",
    "#    worlds.append(i)\n",
    "#    i = i + 1\n",
    "#n10_tags2_bp.insert(loc=0, column='world', value=worlds)   \n",
    "\n",
    "n10_tags2_bp[\"size\"] = 10\n",
    "n10_tags2_bp[\"tag\"] = 2\n",
    "n10_tags2_bp"
   ]
  },
  {
   "cell_type": "code",
   "execution_count": 18,
   "metadata": {},
   "outputs": [],
   "source": [
    "# 10x10 4 tags\n",
    "n10_tags4_bp = pd.read_csv(file10_4_run[0], sep=\"\\t\", header=None)\n",
    "n10_tags4_bp = n10_tags4_bp.drop(2, axis=1)\n",
    "n10_tags4_bp.columns = [\"cooperate\", \"defect\"]\n",
    "n10_tags4_bp[\"size\"] = 10\n",
    "n10_tags4_bp[\"tag\"] = 4"
   ]
  },
  {
   "cell_type": "code",
   "execution_count": 19,
   "metadata": {},
   "outputs": [],
   "source": [
    "# 10x10 8 tags\n",
    "n10_tags8_bp = pd.read_csv(file10_8_run[0], sep=\"\\t\", header=None)\n",
    "n10_tags8_bp = n10_tags8_bp.drop(2, axis=1)\n",
    "n10_tags8_bp.columns = [\"cooperate\", \"defect\"]\n",
    "n10_tags8_bp[\"size\"] = 10\n",
    "n10_tags8_bp[\"tag\"] = 8"
   ]
  },
  {
   "cell_type": "code",
   "execution_count": 20,
   "metadata": {},
   "outputs": [],
   "source": [
    "# 10x10 1k tags\n",
    "n10_tags1k_bp = pd.read_csv(file10_1k_run[0], sep=\"\\t\", header=None)\n",
    "n10_tags1k_bp = n10_tags1k_bp.drop(2, axis=1)\n",
    "n10_tags1k_bp.columns = [\"cooperate\", \"defect\"]\n",
    "n10_tags1k_bp[\"size\"] = 10\n",
    "n10_tags1k_bp[\"tag\"] = 10000"
   ]
  },
  {
   "cell_type": "code",
   "execution_count": 21,
   "metadata": {},
   "outputs": [],
   "source": [
    "n10_bp = n10_tags1_bp\n",
    "n10_bp = n10_bp.append(n10_tags2_bp)\n",
    "n10_bp = n10_bp.append(n10_tags4_bp)\n",
    "n10_bp = n10_bp.append(n10_tags8_bp)\n",
    "n10_bp = n10_bp.append(n10_tags1k_bp)"
   ]
  },
  {
   "cell_type": "code",
   "execution_count": 22,
   "metadata": {},
   "outputs": [
    {
     "data": {
      "text/html": [
       "<div>\n",
       "<style scoped>\n",
       "    .dataframe tbody tr th:only-of-type {\n",
       "        vertical-align: middle;\n",
       "    }\n",
       "\n",
       "    .dataframe tbody tr th {\n",
       "        vertical-align: top;\n",
       "    }\n",
       "\n",
       "    .dataframe thead th {\n",
       "        text-align: right;\n",
       "    }\n",
       "</style>\n",
       "<table border=\"1\" class=\"dataframe\">\n",
       "  <thead>\n",
       "    <tr style=\"text-align: right;\">\n",
       "      <th></th>\n",
       "      <th>tag</th>\n",
       "      <th>behaviour</th>\n",
       "      <th>proportion</th>\n",
       "    </tr>\n",
       "  </thead>\n",
       "  <tbody>\n",
       "    <tr>\n",
       "      <th>0</th>\n",
       "      <td>1</td>\n",
       "      <td>cooperate</td>\n",
       "      <td>0.367390</td>\n",
       "    </tr>\n",
       "    <tr>\n",
       "      <th>1</th>\n",
       "      <td>1</td>\n",
       "      <td>cooperate</td>\n",
       "      <td>0.446131</td>\n",
       "    </tr>\n",
       "    <tr>\n",
       "      <th>2</th>\n",
       "      <td>1</td>\n",
       "      <td>cooperate</td>\n",
       "      <td>0.561917</td>\n",
       "    </tr>\n",
       "    <tr>\n",
       "      <th>3</th>\n",
       "      <td>1</td>\n",
       "      <td>cooperate</td>\n",
       "      <td>0.558238</td>\n",
       "    </tr>\n",
       "    <tr>\n",
       "      <th>4</th>\n",
       "      <td>1</td>\n",
       "      <td>cooperate</td>\n",
       "      <td>0.585209</td>\n",
       "    </tr>\n",
       "  </tbody>\n",
       "</table>\n",
       "</div>"
      ],
      "text/plain": [
       "   tag  behaviour  proportion\n",
       "0    1  cooperate    0.367390\n",
       "1    1  cooperate    0.446131\n",
       "2    1  cooperate    0.561917\n",
       "3    1  cooperate    0.558238\n",
       "4    1  cooperate    0.585209"
      ]
     },
     "execution_count": 22,
     "metadata": {},
     "output_type": "execute_result"
    }
   ],
   "source": [
    "n10_bp_m = pd.melt(n10_bp, id_vars=['tag'], value_vars=['cooperate', 'defect'], var_name='behaviour', value_name='proportion')\n",
    "n10_bp_m.head()"
   ]
  },
  {
   "cell_type": "code",
   "execution_count": 23,
   "metadata": {},
   "outputs": [
    {
     "data": {
      "text/plain": [
       "(0.2142226505, 1.0)"
      ]
     },
     "execution_count": 23,
     "metadata": {},
     "output_type": "execute_result"
    },
    {
     "data": {
      "image/png": "[encoded data removed]",
      "text/plain": [
       "<Figure size 504x504 with 1 Axes>"
      ]
     },
     "metadata": {},
     "output_type": "display_data"
    }
   ],
   "source": [
    "# 10x10 box plot behaviour proportions by tag\n",
    "plt.figure(figsize=(7,7))\n",
    "sns.boxplot(x='tag', y='proportion', hue='behaviour', data=n10_bp_m)\n",
    "plt.title(\"10x10 behaviour proportions by tag\")\n",
    "plt.ylim(top=1.0)"
   ]
  },
  {
   "cell_type": "code",
   "execution_count": null,
   "metadata": {},
   "outputs": [],
   "source": []
  },
  {
   "cell_type": "code",
   "execution_count": null,
   "metadata": {},
   "outputs": [],
   "source": []
  }
 ],
 "metadata": {
  "kernelspec": {
   "display_name": "Python 3",
   "language": "python",
   "name": "python3"
  },
  "language_info": {
   "codemirror_mode": {
    "name": "ipython",
    "version": 3
   },
   "file_extension": ".py",
   "mimetype": "text/x-python",
   "name": "python",
   "nbconvert_exporter": "python",
   "pygments_lexer": "ipython3",
   "version": "3.6.5"
  }
 },
 "nbformat": 4,
 "nbformat_minor": 2
}
